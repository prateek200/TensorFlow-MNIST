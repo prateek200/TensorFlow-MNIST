{
 "cells": [
  {
   "cell_type": "code",
   "execution_count": 15,
   "metadata": {},
   "outputs": [],
   "source": [
    "import tensorflow.compat.v1 as tf\n",
    "from sklearn.datasets import load_digits\n",
    "from sklearn.model_selection import train_test_split\n",
    "import matplotlib.pyplot as plt\n",
    "tf.disable_eager_execution()"
   ]
  },
  {
   "cell_type": "code",
   "execution_count": 5,
   "metadata": {},
   "outputs": [],
   "source": [
    "digits = load_digits()"
   ]
  },
  {
   "cell_type": "code",
   "execution_count": 6,
   "metadata": {},
   "outputs": [],
   "source": [
    "x=digits.data\n",
    "y=digits.target"
   ]
  },
  {
   "cell_type": "code",
   "execution_count": 9,
   "metadata": {},
   "outputs": [
    {
     "data": {
      "text/plain": [
       "<function matplotlib.pyplot.show(*args, **kw)>"
      ]
     },
     "execution_count": 9,
     "metadata": {},
     "output_type": "execute_result"
    },
    {
     "data": {
      "image/png": "[encoded data removed]",
      "text/plain": [
       "<Figure size 288x288 with 16 Axes>"
      ]
     },
     "metadata": {
      "needs_background": "light"
     },
     "output_type": "display_data"
    }
   ],
   "source": [
    "ax=plt.figure(figsize=(4,4))\n",
    "\n",
    "for i in range(16):\n",
    "    \n",
    "    k=ax.add_subplot(4,4,i+1)\n",
    "    plt.imshow(digits.images[i])\n",
    "plt.show"
   ]
  },
  {
   "cell_type": "code",
   "execution_count": 10,
   "metadata": {},
   "outputs": [],
   "source": [
    "x_train,x_test,y_train,y_test=train_test_split(x,y)"
   ]
  },
  {
   "cell_type": "code",
   "execution_count": 20,
   "metadata": {},
   "outputs": [
    {
     "name": "stdout",
     "output_type": "stream",
     "text": [
      "WARNING:tensorflow:From C:\\Users\\SONY\\anaconda3\\lib\\site-packages\\tensorflow_core\\python\\ops\\resource_variable_ops.py:1630: calling BaseResourceVariable.__init__ (from tensorflow.python.ops.resource_variable_ops) with constraint is deprecated and will be removed in a future version.\n",
      "Instructions for updating:\n",
      "If using Keras pass *_constraint arguments to layers.\n"
     ]
    }
   ],
   "source": [
    "n_input = 64\n",
    "n_hidden_1 = 40\n",
    "n_hidden_2 = 30\n",
    "n_classes = 10\n",
    "\n",
    "weights = {\n",
    "    'h1': tf.Variable(tf.random_normal([n_input, n_hidden_1])),\n",
    "    'h2': tf.Variable(tf.random_normal([n_hidden_1, n_hidden_2])),\n",
    "    'out': tf.Variable(tf.random_normal([n_hidden_2, n_classes]))\n",
    "}\n",
    "\n",
    "biases = {\n",
    "    'h1': tf.Variable(tf.random_normal([n_hidden_1])),\n",
    "    'h2': tf.Variable(tf.random_normal([n_hidden_2])),\n",
    "    'out': tf.Variable(tf.random_normal([n_classes]))\n",
    "}"
   ]
  },
  {
   "cell_type": "code",
   "execution_count": 32,
   "metadata": {},
   "outputs": [],
   "source": [
    "def forward_propagation(x, weights, biases):\n",
    "    \n",
    "    in_layer1=tf.add(tf.matmul(x,weights[\"h1\"]),biases[\"h1\"])\n",
    "    out_layer1=tf.nn.relu(in_layer1)\n",
    "    \n",
    "    in_layer2=tf.add(tf.matmul(out_layer1,weights[\"h2\"]),biases[\"h2\"])\n",
    "    out_layer2=tf.nn.relu(in_layer2)\n",
    "    \n",
    "    output=tf.add(tf.matmul(out_layer2,weights[\"out\"]),biases[\"out\"])\n",
    "    \n",
    "    return output\n"
   ]
  },
  {
   "cell_type": "code",
   "execution_count": 38,
   "metadata": {},
   "outputs": [
    {
     "name": "stdout",
     "output_type": "stream",
     "text": [
      "[False False False ... False False False]\n"
     ]
    }
   ],
   "source": [
    "sess=tf.Session()\n",
    "sess.run(tf.global_variables_initializer())\n",
    "\n",
    "x=tf.placeholder(\"float\",shape=[None , 64])\n",
    "\n",
    "output=forward_propagation(x, weights, biases)\n",
    "\n",
    "predictions = tf.argmax(output, 1)\n",
    "correct_predictions=tf.equal(predictions,y_train)\n",
    "\n",
    "total_correct_predictions=sess.run(correct_predictions,feed_dict={x:x_train})\n",
    "\n",
    "total_correct_predictions"
   ]
  },
  {
   "cell_type": "code",
   "execution_count": 30,
   "metadata": {},
   "outputs": [
    {
     "data": {
      "text/plain": [
       "{'h1': array([[ 0.93975234,  1.0193464 , -1.1815262 , ..., -0.50253254,\n",
       "         -0.08587936, -0.7253176 ],\n",
       "        [-0.1736206 ,  0.9629821 ,  0.80543536, ...,  0.00295677,\n",
       "         -0.45376036, -0.47094336],\n",
       "        [ 1.6269656 ,  0.38999963, -0.420412  , ...,  0.9238855 ,\n",
       "          0.03556084, -1.0767928 ],\n",
       "        ...,\n",
       "        [-0.73899   , -1.7806457 , -0.634978  , ...,  0.09280288,\n",
       "         -0.589807  , -1.0126027 ],\n",
       "        [-0.0332378 ,  1.0986986 ,  0.7341735 , ...,  0.17517217,\n",
       "         -1.0123776 ,  0.41405907],\n",
       "        [-0.24769771, -0.1542203 ,  1.333021  , ...,  0.34609947,\n",
       "         -1.3632163 , -0.89336747]], dtype=float32),\n",
       " 'h2': array([[-0.5127734 ,  0.56990945,  0.20314449, ...,  0.49387863,\n",
       "          0.6485205 ,  0.65970606],\n",
       "        [-0.62916493, -1.0172957 , -0.06007831, ...,  0.4979279 ,\n",
       "          0.5602309 , -0.56290597],\n",
       "        [-0.37117848, -1.3127065 , -0.482548  , ..., -0.20733888,\n",
       "         -0.62394744,  0.65418017],\n",
       "        ...,\n",
       "        [ 0.6801584 ,  0.5448173 , -0.48678   , ..., -0.45594022,\n",
       "         -0.13404337,  2.049789  ],\n",
       "        [-1.1890442 , -0.9192032 ,  1.2139932 , ..., -1.0561358 ,\n",
       "         -0.029848  ,  1.7603835 ],\n",
       "        [-0.7703747 , -0.78642356, -0.23849039, ...,  1.9005705 ,\n",
       "         -0.41265538,  0.19772527]], dtype=float32),\n",
       " 'out': array([[-0.1468243 , -0.4239287 ,  0.8989532 , -2.272861  ,  0.05928984,\n",
       "          0.20642625, -0.40253338, -0.20915818,  0.44770736,  0.13270457],\n",
       "        [-0.7358494 ,  0.21839209, -1.1074566 , -0.0841477 ,  0.31935474,\n",
       "         -0.17594486,  0.31115934, -0.9341833 ,  1.2847124 , -0.05353491],\n",
       "        [-0.41932803, -0.09351914,  1.1467614 , -1.1038675 , -0.10704991,\n",
       "          1.2249545 ,  1.1788129 ,  0.16688384,  0.76792747, -0.00928397],\n",
       "        [ 1.1203994 , -0.94387335,  0.9657571 ,  0.17843013, -0.2625339 ,\n",
       "          1.1854951 , -0.00765553,  0.5921634 ,  0.273971  ,  0.7424188 ],\n",
       "        [ 0.34187365,  0.44185364, -0.66301155,  0.64801097,  2.6796658 ,\n",
       "          0.18188965, -0.48966613, -1.1980337 , -0.49042347,  0.8431025 ],\n",
       "        [ 0.5423491 , -0.6322436 , -0.08015913, -0.43337634, -1.090924  ,\n",
       "         -0.01073868, -0.50095594, -0.27661988,  0.20553355, -0.02536063],\n",
       "        [-0.37288725,  1.2389394 , -0.50362974, -0.42926216,  1.2226825 ,\n",
       "          0.7392083 ,  1.7223525 ,  0.21386628, -0.40561438, -0.8763332 ],\n",
       "        [-0.9778883 , -0.24990499, -0.28027683,  1.271435  ,  0.7226576 ,\n",
       "          1.5078976 ,  0.9157462 , -0.033889  ,  2.013251  ,  0.45234874],\n",
       "        [ 1.0850306 ,  1.2968771 ,  1.6649039 , -1.8794957 ,  0.63415885,\n",
       "          0.986939  ,  0.62262833, -0.11692246,  0.01047346, -0.5204226 ],\n",
       "        [ 0.8669081 , -1.0788906 ,  1.1101494 , -0.08807292,  1.1799899 ,\n",
       "          0.6497968 , -0.99174374,  0.1923641 , -1.5558226 ,  0.7167812 ],\n",
       "        [-2.1880586 ,  0.86864185, -0.69181657, -0.47694397, -0.36296487,\n",
       "         -0.06216931,  0.395501  ,  0.4181235 ,  0.04931758,  0.99531794],\n",
       "        [ 0.36929747, -1.1526321 , -0.0858011 ,  0.6132946 , -0.41941273,\n",
       "         -0.7843492 , -1.1089233 , -1.5653467 , -0.9458987 ,  0.1412499 ],\n",
       "        [ 0.6347985 ,  0.41458878, -1.1113713 ,  1.0414062 ,  0.34299502,\n",
       "         -2.539036  , -0.37034133, -1.071629  , -0.74523646,  1.1227098 ],\n",
       "        [-0.5581403 , -0.26213926,  0.00595595, -0.8908434 ,  1.4942976 ,\n",
       "         -1.4423486 ,  0.2791495 ,  0.05306055, -0.426551  , -0.6541898 ],\n",
       "        [ 1.5153698 ,  0.51523983,  0.08020115, -0.83880365,  1.5352727 ,\n",
       "         -0.6771275 , -0.09458946, -0.4681867 , -0.6619013 , -1.8164066 ],\n",
       "        [ 0.23558882, -0.10531055,  0.4731908 , -0.19438499,  0.6112227 ,\n",
       "          1.1952943 ,  0.7696127 , -0.6104027 , -1.7330186 ,  0.19840157],\n",
       "        [-0.1481917 , -0.2595011 ,  0.46354726,  0.33670682,  0.38734654,\n",
       "          0.172524  , -0.4748675 , -1.0839862 ,  0.2760912 ,  1.0664335 ],\n",
       "        [-1.3551682 , -1.0697632 ,  2.2775145 ,  0.6074373 , -1.570219  ,\n",
       "         -2.1741626 ,  1.4171656 ,  0.14465955, -0.30146253,  1.1457738 ],\n",
       "        [ 0.5606909 ,  1.3232462 , -0.4026517 , -0.6074153 , -1.3326257 ,\n",
       "          0.8774848 ,  0.91195744,  0.01387074,  0.8431461 ,  0.25310037],\n",
       "        [ 0.53822243, -0.16821393,  0.7297263 ,  0.320806  ,  0.8119627 ,\n",
       "         -1.1230574 ,  1.2855179 , -0.73854774,  0.09454958,  0.6399608 ],\n",
       "        [-0.11137997,  0.8707562 , -0.00307513, -0.5973369 ,  1.5566065 ,\n",
       "          1.0390105 ,  0.4342968 , -0.0086032 , -0.06253079, -2.356633  ],\n",
       "        [ 0.4513378 , -1.4557676 , -0.3199667 ,  0.625092  , -0.07630537,\n",
       "          1.0260166 ,  1.1228755 ,  0.7661081 ,  0.33135524,  0.62452894],\n",
       "        [ 0.46556225, -1.0905625 , -1.7477549 , -1.261802  ,  1.2128507 ,\n",
       "          1.0779142 ,  0.14689586,  1.3734515 , -0.5848181 , -2.0021963 ],\n",
       "        [ 0.7403303 ,  1.7691478 , -1.029223  , -0.9375662 , -0.09948111,\n",
       "         -0.99277246, -1.6552231 ,  0.9337834 , -0.83309424,  1.0718037 ],\n",
       "        [ 1.3895744 , -1.8248992 , -0.06845399, -1.652341  , -0.04495357,\n",
       "          0.5163494 , -0.6356647 , -0.9744168 , -0.31013095, -0.7087904 ],\n",
       "        [-0.34155115,  2.398185  ,  1.11338   , -2.3031402 , -0.52395386,\n",
       "         -0.06765156,  1.3726176 , -0.28109092, -0.3232811 , -1.8289475 ],\n",
       "        [-0.75951   ,  0.61861455,  0.94912666,  0.66239804, -1.2858946 ,\n",
       "          0.1089506 , -1.2504098 , -2.199493  , -0.57087016,  1.6392775 ],\n",
       "        [-0.27395165, -1.4914225 ,  0.31481808,  2.2952385 ,  0.24950205,\n",
       "         -0.26728454,  0.95579165,  0.3471026 , -2.3037121 , -1.1946864 ],\n",
       "        [ 0.6168714 , -1.7712994 ,  1.468063  ,  0.42239934, -0.60328233,\n",
       "         -1.1548735 ,  1.3941592 ,  0.8042532 ,  0.14407478, -0.08186926],\n",
       "        [-0.6770708 , -0.03082462,  0.4061214 , -0.6246465 , -3.0598447 ,\n",
       "          0.7726107 , -0.08211085, -0.41823202,  0.20315261,  1.9393251 ]],\n",
       "       dtype=float32)}"
      ]
     },
     "execution_count": 30,
     "metadata": {},
     "output_type": "execute_result"
    }
   ],
   "source": []
  },
  {
   "cell_type": "code",
   "execution_count": null,
   "metadata": {},
   "outputs": [],
   "source": []
  }
 ],
 "metadata": {
  "kernelspec": {
   "display_name": "Python 3",
   "language": "python",
   "name": "python3"
  },
  "language_info": {
   "codemirror_mode": {
    "name": "ipython",
    "version": 3
   },
   "file_extension": ".py",
   "mimetype": "text/x-python",
   "name": "python",
   "nbconvert_exporter": "python",
   "pygments_lexer": "ipython3",
   "version": "3.7.6"
  }
 },
 "nbformat": 4,
 "nbformat_minor": 4
}
