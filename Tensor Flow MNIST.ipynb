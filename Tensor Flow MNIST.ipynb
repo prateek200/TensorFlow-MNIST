{
 "cells": [
  {
   "cell_type": "code",
   "execution_count": 1,
   "metadata": {},
   "outputs": [],
   "source": [
    "# importing modules that are used in this project\n",
    "\n",
    "import tensorflow.compat.v1 as tf\n",
    "tf.disable_eager_execution()\n",
    "import matplotlib.pyplot as plt\n",
    "import numpy as np\n",
    "from sklearn.metrics import classification_report"
   ]
  },
  {
   "cell_type": "code",
   "execution_count": 2,
   "metadata": {},
   "outputs": [],
   "source": [
    "# loading MNIST dataset\n",
    "# Note -: input data has shape (28,28) so reshaping into 784 features\n",
    "\n",
    "data=tf.keras.datasets.mnist.load_data(path='mnist.npz')\n",
    "x_train=(data[0][0]).reshape((60000,784))\n",
    "y_train=data[0][1]\n",
    "x_test=(data[1][0]).reshape((10000,784))\n",
    "y_test=data[1][1]\n"
   ]
  },
  {
   "cell_type": "code",
   "execution_count": 3,
   "metadata": {},
   "outputs": [
    {
     "data": {
      "text/plain": [
       "(10000,)"
      ]
     },
     "execution_count": 3,
     "metadata": {},
     "output_type": "execute_result"
    }
   ],
   "source": [
    "y_test.shape"
   ]
  },
  {
   "cell_type": "code",
   "execution_count": 4,
   "metadata": {},
   "outputs": [
    {
     "data": {
      "text/plain": [
       "<function matplotlib.pyplot.show(*args, **kw)>"
      ]
     },
     "execution_count": 4,
     "metadata": {},
     "output_type": "execute_result"
    },
    {
     "data": {
      "image/png": "[encoded data removed]",
      "text/plain": [
       "<Figure size 288x288 with 16 Axes>"
      ]
     },
     "metadata": {
      "needs_background": "light"
     },
     "output_type": "display_data"
    }
   ],
   "source": [
    "# Plotting 16 images of training data\n",
    "\n",
    "ax=plt.figure(figsize=(4,4))\n",
    "\n",
    "for i in range(16):\n",
    "    \n",
    "    k=ax.add_subplot(4,4,i+1)\n",
    "    plt.imshow(x_train[i].reshape((28,28)))\n",
    "plt.show"
   ]
  },
  {
   "cell_type": "code",
   "execution_count": 5,
   "metadata": {},
   "outputs": [
    {
     "name": "stdout",
     "output_type": "stream",
     "text": [
      "(60000,) (60000, 10) (10000,) (10000, 10)\n"
     ]
    },
    {
     "data": {
      "text/plain": [
       "array([[0, 0, 0, 0, 0, 1, 0, 0, 0, 0],\n",
       "       [1, 0, 0, 0, 0, 0, 0, 0, 0, 0],\n",
       "       [0, 0, 0, 0, 1, 0, 0, 0, 0, 0],\n",
       "       [0, 1, 0, 0, 0, 0, 0, 0, 0, 0],\n",
       "       [0, 0, 0, 0, 0, 0, 0, 0, 0, 1]])"
      ]
     },
     "execution_count": 5,
     "metadata": {},
     "output_type": "execute_result"
    }
   ],
   "source": [
    "# converting output data into hot encoded \n",
    "# like there are 2 target classes in output -:\n",
    "# so they will be represented like [1 ,0] , [0 1]\n",
    "\n",
    "y_train_hot_encoded=np.zeros((y_train.shape[0],10),dtype=int)\n",
    "y_test_hot_encoded=np.zeros((y_test.shape[0],10),dtype=int)\n",
    "\n",
    "for i in range(len(y_train)):\n",
    "    y_train_hot_encoded[i][y_train[i]]=1\n",
    "    \n",
    "for i in range(len(y_test)):\n",
    "    y_test_hot_encoded[i][y_test[i]]=1\n",
    "    \n",
    "print(y_train.shape,y_train_hot_encoded.shape,y_test.shape,y_test_hot_encoded.shape)\n",
    "y_train_hot_encoded[:5]"
   ]
  },
  {
   "cell_type": "code",
   "execution_count": 6,
   "metadata": {},
   "outputs": [
    {
     "name": "stdout",
     "output_type": "stream",
     "text": [
      "WARNING:tensorflow:From C:\\Users\\SONY\\anaconda3\\lib\\site-packages\\tensorflow_core\\python\\ops\\resource_variable_ops.py:1630: calling BaseResourceVariable.__init__ (from tensorflow.python.ops.resource_variable_ops) with constraint is deprecated and will be removed in a future version.\n",
      "Instructions for updating:\n",
      "If using Keras pass *_constraint arguments to layers.\n"
     ]
    }
   ],
   "source": [
    "# creating matrix for layers \n",
    "# there are 2 hidden layer and 1 output layer\n",
    "\n",
    "n_input = 784\n",
    "n_hidden_1 = 300\n",
    "n_hidden_2 = 200\n",
    "n_classes = 10\n",
    "\n",
    "weights = {\n",
    "    'h1': tf.Variable(tf.random_normal([n_input, n_hidden_1])),\n",
    "    'h2': tf.Variable(tf.random_normal([n_hidden_1, n_hidden_2])),\n",
    "    'out': tf.Variable(tf.random_normal([n_hidden_2, n_classes]))\n",
    "}\n",
    "\n",
    "biases = {\n",
    "    'h1': tf.Variable(tf.random_normal([n_hidden_1])),\n",
    "    'h2': tf.Variable(tf.random_normal([n_hidden_2])),\n",
    "    'out': tf.Variable(tf.random_normal([n_classes]))\n",
    "}"
   ]
  },
  {
   "cell_type": "code",
   "execution_count": 7,
   "metadata": {},
   "outputs": [],
   "source": [
    "# forward propagation code -: gives output on input data\n",
    "\n",
    "def forward_propagation(x, weights, biases):\n",
    "    \n",
    "    in_layer1=tf.add(tf.matmul(x,weights[\"h1\"]),biases[\"h1\"])\n",
    "    out_layer1=tf.nn.relu(in_layer1)\n",
    "    \n",
    "    in_layer2=tf.add(tf.matmul(out_layer1,weights[\"h2\"]),biases[\"h2\"])\n",
    "    out_layer2=tf.nn.relu(in_layer2)\n",
    "    \n",
    "    output=tf.add(tf.matmul(out_layer2,weights[\"out\"]),biases[\"out\"])\n",
    "    \n",
    "    return output"
   ]
  },
  {
   "cell_type": "code",
   "execution_count": 8,
   "metadata": {},
   "outputs": [
    {
     "name": "stdout",
     "output_type": "stream",
     "text": [
      "WARNING:tensorflow:From <ipython-input-8-318b6ab034b9>:6: softmax_cross_entropy_with_logits (from tensorflow.python.ops.nn_ops) is deprecated and will be removed in a future version.\n",
      "Instructions for updating:\n",
      "\n",
      "Future major versions of TensorFlow will allow gradients to flow\n",
      "into the labels input on backprop by default.\n",
      "\n",
      "See `tf.nn.softmax_cross_entropy_with_logits_v2`.\n",
      "\n",
      "Cost in Iteration 1 = 332845.62\n",
      "Cost in Iteration 2 = 230727.39\n",
      "Cost in Iteration 3 = 155106.02\n",
      "Cost in Iteration 4 = 112199.44\n",
      "Cost in Iteration 5 = 89943.234\n",
      "Cost in Iteration 6 = 66621.44\n",
      "Cost in Iteration 7 = 51966.883\n",
      "Cost in Iteration 8 = 44510.61\n",
      "Cost in Iteration 9 = 40482.785\n",
      "Cost in Iteration 10 = 36951.15\n",
      "Cost in Iteration 11 = 33129.92\n",
      "Cost in Iteration 12 = 29763.35\n",
      "Cost in Iteration 13 = 27317.38\n",
      "Cost in Iteration 14 = 25620.447\n",
      "Cost in Iteration 15 = 24256.213\n",
      "Cost in Iteration 16 = 22965.588\n",
      "Cost in Iteration 17 = 21624.855\n",
      "Cost in Iteration 18 = 20290.035\n",
      "Cost in Iteration 19 = 19137.834\n",
      "Cost in Iteration 20 = 18319.408\n",
      "Cost in Iteration 21 = 17734.203\n",
      "Cost in Iteration 22 = 17212.451\n",
      "Cost in Iteration 23 = 16617.656\n",
      "Cost in Iteration 24 = 15907.746\n",
      "Cost in Iteration 25 = 15125.482\n"
     ]
    }
   ],
   "source": [
    "# optimizing cost -: reducing error \n",
    "# you can chage learing_rate (0.01) , and no of iterations (25)\n",
    "\n",
    "x=tf.placeholder(\"float\",shape=[None , 784])\n",
    "y=tf.placeholder(tf.int32,shape=[None , 10])\n",
    "    \n",
    "output=forward_propagation(x, weights, biases)\n",
    "    \n",
    "cost=tf.reduce_mean(tf.nn.softmax_cross_entropy_with_logits(labels=y,logits=output))\n",
    "\n",
    "optimizer = tf.train.AdamOptimizer(learning_rate=0.01).minimize(cost)\n",
    "\n",
    "sess=tf.Session()\n",
    "sess.run(tf.global_variables_initializer())\n",
    "    \n",
    "for i in range(25):\n",
    "    c, _=sess.run([cost,optimizer],feed_dict={x:x_train,y:y_train_hot_encoded})\n",
    "    print(\"Cost in Iteration\",i+1,\"=\",c)"
   ]
  },
  {
   "cell_type": "code",
   "execution_count": 16,
   "metadata": {},
   "outputs": [
    {
     "name": "stdout",
     "output_type": "stream",
     "text": [
      "              precision    recall  f1-score   support\n",
      "\n",
      "           0       0.94      0.92      0.93       980\n",
      "           1       0.98      0.94      0.96      1135\n",
      "           2       0.84      0.88      0.86      1032\n",
      "           3       0.83      0.88      0.85      1010\n",
      "           4       0.87      0.87      0.87       982\n",
      "           5       0.83      0.80      0.82       892\n",
      "           6       0.90      0.93      0.91       958\n",
      "           7       0.91      0.88      0.89      1028\n",
      "           8       0.83      0.78      0.80       974\n",
      "           9       0.81      0.84      0.83      1009\n",
      "\n",
      "    accuracy                           0.87     10000\n",
      "   macro avg       0.87      0.87      0.87     10000\n",
      "weighted avg       0.88      0.87      0.87     10000\n",
      "\n"
     ]
    }
   ],
   "source": [
    "# predicting output for test input\n",
    "# and printing classification report \n",
    "\n",
    "X_test=tf.placeholder(\"float\",shape=[None , 784])\n",
    "\n",
    "test_predictions=tf.argmax(forward_propagation(X_test, weights, biases),1)\n",
    "\n",
    "predictions=sess.run(test_predictions,feed_dict={X_test:x_test})    \n",
    "\n",
    "print(classification_report(y_test,predictions))"
   ]
  },
  {
   "cell_type": "code",
   "execution_count": null,
   "metadata": {},
   "outputs": [],
   "source": []
  }
 ],
 "metadata": {
  "kernelspec": {
   "display_name": "Python 3",
   "language": "python",
   "name": "python3"
  },
  "language_info": {
   "codemirror_mode": {
    "name": "ipython",
    "version": 3
   },
   "file_extension": ".py",
   "mimetype": "text/x-python",
   "name": "python",
   "nbconvert_exporter": "python",
   "pygments_lexer": "ipython3",
   "version": "3.7.6"
  }
 },
 "nbformat": 4,
 "nbformat_minor": 4
}
